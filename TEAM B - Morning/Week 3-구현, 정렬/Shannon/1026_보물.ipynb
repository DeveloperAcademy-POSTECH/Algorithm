{
  "nbformat": 4,
  "nbformat_minor": 0,
  "metadata": {
    "colab": {
      "provenance": []
    },
    "kernelspec": {
      "name": "python3",
      "display_name": "Python 3"
    },
    "language_info": {
      "name": "python"
    }
  },
  "cells": [
    {
      "cell_type": "markdown",
      "source": [
        "https://www.acmicpc.net/problem/1026\n",
        "# 문제 읽기\n",
        "- 길이가 N인 배열 A와 B가 있을때 함수 S를 정의 \n",
        "- S = a1*b1 + ...an*bn\n",
        "- S의 값을 가장 작게 만들기 위해 A의 수를 재배열, B는 재배열 X -> \n",
        "- S의 최솟값을 출력\n",
        "\n",
        "#문제 해석\n",
        "- 배열의 가장 큰 수에 가장 작은 수를 넣기 \n",
        "- 딕셔너리를 이용해서 해당하는 것을 넣기 "
      ],
      "metadata": {
        "id": "vF3tBrXiqC5u"
      }
    },
    {
      "cell_type": "code",
      "execution_count": null,
      "metadata": {
        "colab": {
          "base_uri": "https://localhost:8080/"
        },
        "id": "A6z5fyOEp7vS",
        "outputId": "5be0d74c-07e9-4d30-b799-4e2913d16ea3"
      },
      "outputs": [
        {
          "output_type": "stream",
          "name": "stdout",
          "text": [
            "5\n",
            "1 1 1 6 0\n",
            "2 7 8 3 1\n",
            "18\n"
          ]
        }
      ],
      "source": [
        "n = int(input())\n",
        "a = list(map(int, input().split()))\n",
        "b = list(map(int,input().split()))\n",
        "a.sort()\n",
        "b.sort(reverse = True)\n",
        "\n",
        "sum = 0\n",
        "for i in range(n):\n",
        "    sum += a[i]*b[i]\n",
        "\n",
        "print(sum)"
      ]
    }
  ]
}