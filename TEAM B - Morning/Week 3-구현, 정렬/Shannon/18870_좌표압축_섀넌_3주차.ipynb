{
  "nbformat": 4,
  "nbformat_minor": 0,
  "metadata": {
    "colab": {
      "provenance": []
    },
    "kernelspec": {
      "name": "python3",
      "display_name": "Python 3"
    },
    "language_info": {
      "name": "python"
    }
  },
  "cells": [
    {
      "cell_type": "markdown",
      "source": [
        "https://www.acmicpc.net/problem/18870\n",
        "# 문제 읽기\n",
        "- 수직선상의 좌쵸에 좌표 압축할것임\n",
        "- 좌표를 압출한 결과는 i'의 값은 i>j를 만족하는 서로 다른 좌표의 개수와 같아야 함 : 압축해도 다른 것보다 더 크거나 작아야 함 \n",
        "# 문제 전략: \n",
        "- 전체 개수가 얼마나 다른 수를 가지고 있는지 확인 : set\n",
        "- 크기에 따라 sort, 하나씩 배열해줌 - 딕셔너리 사용\n",
        "- 나올때마다 한씩 출력 \n",
        "- 100만이기 때문에 N까지만 허락함 "
      ],
      "metadata": {
        "id": "SaeteXlDfcae"
      }
    },
    {
      "cell_type": "code",
      "execution_count": null,
      "metadata": {
        "colab": {
          "base_uri": "https://localhost:8080/"
        },
        "id": "VfrlnLRtfMbW",
        "outputId": "3d4f053d-afad-4523-cb29-0f0960b6299c"
      },
      "outputs": [
        {
          "output_type": "stream",
          "name": "stdout",
          "text": [
            "5\n",
            "2 4 -10 4 -9\n",
            "2 3 0 3 1\n"
          ]
        }
      ],
      "source": [
        "n = int(input())\n",
        "num_list = list(map(int, input().split()))\n",
        "\n",
        "num_set = set(num_list)\n",
        "num_set_list = list(num_set)\n",
        "num_set_list.sort()\n",
        "\n",
        "num_dict = {}\n",
        "for i in range(len(num_set_list)):\n",
        "    num_dict[num_set_list[i]] = i\n",
        "\n",
        "zips =[]\n",
        "for i in num_list:\n",
        "    zips.append(num_dict[i])\n",
        "\n",
        "print(*zips)"
      ]
    }
  ]
}