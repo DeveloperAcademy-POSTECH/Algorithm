{
  "nbformat": 4,
  "nbformat_minor": 0,
  "metadata": {
    "colab": {
      "provenance": []
    },
    "kernelspec": {
      "name": "python3",
      "display_name": "Python 3"
    },
    "language_info": {
      "name": "python"
    }
  },
  "cells": [
    {
      "cell_type": "markdown",
      "source": [
        "https://www.acmicpc.net/problem/11497\n",
        "# 문제 읽기\n",
        "- 통나무 건너뛰기, 인접한 통나무의 높이차가 최소\n",
        "- 난이도는 인접한 두 통나무 간의 높이차의 최댓값\n",
        "- 입력\n",
        "    - 1 : t개의 테스트 테이스\n",
        "    - t\n",
        "        - 1 : 통나무 개수 정수 n\n",
        "        - 2 : 통나무 높이들 \n",
        "\n",
        "# 문제 전략\n",
        "- 크기 배열이 : 1 3 5 7 9 8 6 4 2 가 되어야 아마 최소인 배열을 찾기 쉬울듯\n",
        "- 그 다음에는 두개를 뺀 거에서 max를 찾고, 마지막 앞 뒤도 비교해주기\n"
      ],
      "metadata": {
        "id": "WlvvsEYas6VB"
      }
    },
    {
      "cell_type": "code",
      "execution_count": null,
      "metadata": {
        "colab": {
          "base_uri": "https://localhost:8080/"
        },
        "id": "IkPSrhWJs3aY",
        "outputId": "6dc46dd3-9e1a-426e-9391-f99086f2922a"
      },
      "outputs": [
        {
          "output_type": "stream",
          "name": "stdout",
          "text": [
            "3\n",
            "7\n",
            "13 10 12 11 10 11 12\n",
            "1\n",
            "5\n",
            "2 4 5 7 9\n",
            "4\n",
            "8\n",
            "6 6 6 6 6 6 6 6\n",
            "0\n"
          ]
        }
      ],
      "source": [
        "t = int(input())\n",
        "for i in range(t):\n",
        "    n = int(input())\n",
        "    array = list(map(int, input().split()))\n",
        "    array.sort()\n",
        "    even = [array[k] for k in range(0,n,2)]\n",
        "    odd = [array[r] for r in range(1,n,2)]\n",
        "    odd.sort(reverse = True)\n",
        "    new = even + odd\n",
        "    max_gap = 0\n",
        "    for i in range(n):\n",
        "        max_gap = max(max_gap, abs(new[i-1]-new[i]))\n",
        "    print(max_gap)\n",
        "    "
      ]
    }
  ]
}